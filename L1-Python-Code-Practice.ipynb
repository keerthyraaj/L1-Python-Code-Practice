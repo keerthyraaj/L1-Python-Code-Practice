{
 "cells": [
  {
   "cell_type": "markdown",
   "id": "03d1a910",
   "metadata": {},
   "source": [
    "# Task-1:\n",
    "Make a program that tells you the version of Python you are using\n"
   ]
  },
  {
   "cell_type": "code",
   "execution_count": 6,
   "id": "1570e8c0",
   "metadata": {},
   "outputs": [
    {
     "name": "stdout",
     "output_type": "stream",
     "text": [
      "3.8.8\n"
     ]
    }
   ],
   "source": [
    "print(python_version())"
   ]
  },
  {
   "cell_type": "markdown",
   "id": "12b2059b",
   "metadata": {},
   "source": [
    "# Task-2: \n",
    "Write a Python language program that converts meters to centimeters."
   ]
  },
  {
   "cell_type": "code",
   "execution_count": 11,
   "id": "deee01c9",
   "metadata": {},
   "outputs": [
    {
     "name": "stdout",
     "output_type": "stream",
     "text": [
      "\t ----converion of meters to centimeters---- \n",
      "Enter the meters: 10\n",
      "Centimeters: 1000\n"
     ]
    }
   ],
   "source": [
    "print('\\t ----converion of meters to centimeters---- ')\n",
    "meter = int(input('Enter the meters: '))\n",
    "print('Centimeters:',(meter*100))"
   ]
  },
  {
   "cell_type": "markdown",
   "id": "2709ee2f",
   "metadata": {},
   "source": [
    "# Task-3: \n",
    "Write a Python program that reads an integer value and displays the 1-10 times tables of the read value."
   ]
  },
  {
   "cell_type": "code",
   "execution_count": 1,
   "id": "675889f1",
   "metadata": {},
   "outputs": [
    {
     "name": "stdout",
     "output_type": "stream",
     "text": [
      "\t ----displaying the 1-10 times tables of an integer value---- \n",
      "Enter an integer value : 5\n",
      "5 * 1 = 5\n",
      "5 * 2 = 10\n",
      "5 * 3 = 15\n",
      "5 * 4 = 20\n",
      "5 * 5 = 25\n",
      "5 * 6 = 30\n",
      "5 * 7 = 35\n",
      "5 * 8 = 40\n",
      "5 * 9 = 45\n",
      "5 * 10 = 50\n"
     ]
    }
   ],
   "source": [
    "print('\\t ----displaying the 1-10 times tables of an integer value---- ')\n",
    "int_val = int(input('Enter an integer value : '))\n",
    "for i in range(1,11):\n",
    "    print(int_val, \"*\", i, \"=\", (int_val * i))"
   ]
  },
  {
   "cell_type": "markdown",
   "id": "9b516b82",
   "metadata": {},
   "source": [
    "# Task-4:\n",
    "Make an algorithm in Python language that receives two grades and calculate the arithmetic mean and show the result."
   ]
  },
  {
   "cell_type": "code",
   "execution_count": 2,
   "id": "5ed8c389",
   "metadata": {},
   "outputs": [
    {
     "name": "stdout",
     "output_type": "stream",
     "text": [
      "\t ----calculating the arithmetic mean---- \n",
      "Enter the Grade 1 : 30\n",
      "Enter the Grade 2 : 90\n",
      "The arithmetic mean :  60.0\n"
     ]
    }
   ],
   "source": [
    "print('\\t ----calculating the arithmetic mean---- ')\n",
    "Grade_1 = int(input('Enter the Grade 1 : '))\n",
    "Grade_2 = int(input('Enter the Grade 2 : '))\n",
    "print('The arithmetic mean : ',(Grade_1+Grade_2)/2)\n"
   ]
  },
  {
   "cell_type": "markdown",
   "id": "fe8b2b2f",
   "metadata": {},
   "source": [
    "# Task-5:\n",
    "    Make an algorithm that when receiving the current salary of an employee, calculate the value of the new salary readjusted according to the table below:\n",
    "\n",
    "Current Salary,\t             %Increase\n",
    "\n",
    "bellow $ 120000,\t                       15%\n",
    "\n",
    "120000 $  up to $ 300000,\t               10%\n",
    "\n",
    "More than $ 300000,\t                       5%\n"
   ]
  },
  {
   "cell_type": "code",
   "execution_count": 30,
   "id": "a5864c43",
   "metadata": {},
   "outputs": [
    {
     "name": "stdout",
     "output_type": "stream",
     "text": [
      "\t ----calculating salary of an employee---- \n",
      "Enter the current salary : 300001\n",
      "The new salary :  315001.05\n"
     ]
    }
   ],
   "source": [
    "print('\\t ----calculating salary of an employee---- ')\n",
    "current_salary = int(input('Enter the current salary : '))\n",
    "if (current_salary < 120000):\n",
    "    new_salary = current_salary + (current_salary*0.15)\n",
    "    print('The new salary : ',new_salary)\n",
    "if ((current_salary >= 120000) and (current_salary <= 300000)):\n",
    "    new_salary = current_salary + (current_salary*0.10)\n",
    "    print('The new salary : ',new_salary)\n",
    "if (current_salary > 300000):\n",
    "    new_salary = current_salary + (current_salary*0.05)\n",
    "    print('The new salary : ',new_salary)"
   ]
  },
  {
   "cell_type": "markdown",
   "id": "416195e3",
   "metadata": {},
   "source": [
    "# Task-6:\n",
    "Write a program that displays all numbers between 5 and 100 that are divisible by 7 but are not multiples of 5. The numbers obtained must be printed in sequence."
   ]
  },
  {
   "cell_type": "code",
   "execution_count": 32,
   "id": "638a4ad3",
   "metadata": {},
   "outputs": [
    {
     "name": "stdout",
     "output_type": "stream",
     "text": [
      "7\n",
      "14\n",
      "21\n",
      "28\n",
      "42\n",
      "49\n",
      "56\n",
      "63\n",
      "77\n",
      "84\n",
      "91\n",
      "98\n"
     ]
    }
   ],
   "source": [
    "for i in range(5,101):\n",
    "    if ((i % 7 == 0) and (i % 5 != 0)):\n",
    "        print(i)"
   ]
  },
  {
   "cell_type": "markdown",
   "id": "655a64fe",
   "metadata": {},
   "source": [
    "# Task-7: \n",
    "Make a program that receives a number entered by the user and calculates the sum of all numbers from 1 to the number entered. For example, if the user typed the number 4, the output would be 10 (1+2+3+4=10).\n",
    "\n"
   ]
  },
  {
   "cell_type": "code",
   "execution_count": 72,
   "id": "475486fe",
   "metadata": {},
   "outputs": [
    {
     "name": "stdout",
     "output_type": "stream",
     "text": [
      "Enter the number : 10\n",
      "Output :  55\n"
     ]
    }
   ],
   "source": [
    "num = int(input('Enter the number : '))\n",
    "output = sum(i for i in range(1, num+1))\n",
    "print(\"Output : \",output)\n",
    "\n",
    "\n"
   ]
  },
  {
   "cell_type": "markdown",
   "id": "3c2923e4",
   "metadata": {},
   "source": [
    "# Task-8: \n",
    "Make a program that receiving an integer value, inform if the number is positive, negative or neutral.\n",
    "\n"
   ]
  },
  {
   "cell_type": "code",
   "execution_count": 77,
   "id": "16eee3e2",
   "metadata": {},
   "outputs": [
    {
     "name": "stdout",
     "output_type": "stream",
     "text": [
      "Enter an integer value : -1\n",
      "The number is negative\n"
     ]
    }
   ],
   "source": [
    "num = int(input('Enter an integer value : '))\n",
    "if (num > 0):\n",
    "    print(\"The number is positive\")\n",
    "if (num < 0):\n",
    "    print(\"The number is negative\")\n",
    "if (num == 0):\n",
    "    print(\"The number is neutral.\")"
   ]
  },
  {
   "cell_type": "markdown",
   "id": "76458724",
   "metadata": {},
   "source": [
    "# Task-9: \n",
    "Create an algorithm that takes a number, counts the total number of digits, and displays the result. For example, if the number is 2021, then the output would be 4"
   ]
  },
  {
   "cell_type": "code",
   "execution_count": 102,
   "id": "a1c2b549",
   "metadata": {},
   "outputs": [
    {
     "name": "stdout",
     "output_type": "stream",
     "text": [
      "\t ----calculating counts the total number of digits---- \n",
      "Enter the number : 100000\n",
      "count of the number :  6\n"
     ]
    }
   ],
   "source": [
    "print('\\t ----calculating counts the total number of digits---- ')\n",
    "num = int(input('Enter the number : '))\n",
    "count = 0\n",
    "while num != 0:\n",
    "    count += 1\n",
    "    num = num // 10\n",
    "print(\"count of the number : \",count)\n"
   ]
  },
  {
   "cell_type": "markdown",
   "id": "e0d95cf3",
   "metadata": {},
   "source": [
    "# Task-10:\n",
    "Write a Python language program, which reads a number n and prints the first n numbers of the Fibonacci sequence. Note: The Fibonacci sequence represents a pattern of numbers generated by adding the previous two together. Sequence values are often seen in nature and art, represented by spirals and the golden ratio (or the golden number). As an example of the golden ratio, we have the shells of some molluscs."
   ]
  },
  {
   "cell_type": "code",
   "execution_count": 105,
   "id": "ecff72b7",
   "metadata": {},
   "outputs": [
    {
     "name": "stdout",
     "output_type": "stream",
     "text": [
      "\t ----calculating the Fibonacci sequence---- \n",
      "Enter the number : 5\n",
      "0\n",
      "1\n",
      "1\n",
      "2\n",
      "3\n"
     ]
    }
   ],
   "source": [
    "print('\\t ----calculating the Fibonacci sequence---- ')\n",
    "n = int(input('Enter the number : '))\n",
    "num1 = 0\n",
    "num2 = 1\n",
    "count = 0\n",
    "while count < n:\n",
    "    print(num1)\n",
    "    num3 = num1 + num2\n",
    "    num1 = num2\n",
    "    num2 = num3\n",
    "    count += 1\n",
    "    "
   ]
  },
  {
   "cell_type": "code",
   "execution_count": null,
   "id": "e8f70b55",
   "metadata": {},
   "outputs": [],
   "source": []
  }
 ],
 "metadata": {
  "kernelspec": {
   "display_name": "Python 3",
   "language": "python",
   "name": "python3"
  },
  "language_info": {
   "codemirror_mode": {
    "name": "ipython",
    "version": 3
   },
   "file_extension": ".py",
   "mimetype": "text/x-python",
   "name": "python",
   "nbconvert_exporter": "python",
   "pygments_lexer": "ipython3",
   "version": "3.8.8"
  }
 },
 "nbformat": 4,
 "nbformat_minor": 5
}
